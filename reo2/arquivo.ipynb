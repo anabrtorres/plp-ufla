xs = []
ys = []
line = 0
somax = 0
somay = 0
xbar = 0
ybar = 0
cp = 0

with open('data.csv', 'r') as file:
  lines = file.readlines()
  for number in lines:
    a, b = number.split(',')
    x = float(a)
    y = float(b)   
    xs.append(x)
    ys.append(y)

    line += 1
    somax += x
    somay += y

    xbar = somax/line
    ybar = somay/line

    if ((((x-xbar)**2) * ((y-ybar)**2)) **(1/2)) > 0:
        cp = ((x-xbar)*(y-ybar)) / ((((x-xbar)**2) * ((y-ybar)**2)) **(1/2))
        print(cp) 



print(xbar) #16.3125
print(ybar) #33.3625

print(xs)
print(ys)